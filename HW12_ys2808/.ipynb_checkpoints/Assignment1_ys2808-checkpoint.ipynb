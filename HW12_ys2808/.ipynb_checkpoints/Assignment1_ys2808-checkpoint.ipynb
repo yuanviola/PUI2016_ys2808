{
 "cells": [
  {
   "cell_type": "code",
   "execution_count": 89,
   "metadata": {
    "collapsed": false
   },
   "outputs": [
    {
     "name": "stdout",
     "output_type": "stream",
     "text": [
      "Populating the interactive namespace from numpy and matplotlib\n"
     ]
    }
   ],
   "source": [
    "import ast\n",
    "import urllib2\n",
    "import urllib\n",
    "from cStringIO import StringIO\n",
    "import json\n",
    "import geopandas as gpd\n",
    "import pandas as pd\n",
    "import numpy as np\n",
    "import pylab as pl\n",
    "%pylab inline\n",
    "\n",
    "from scipy.spatial.distance import pdist, squareform"
   ]
  },
  {
   "cell_type": "markdown",
   "metadata": {},
   "source": [
    "### Get data from CARTODB"
   ]
  },
  {
   "cell_type": "code",
   "execution_count": 2,
   "metadata": {
    "collapsed": true
   },
   "outputs": [],
   "source": [
    "SQL_SOURCE = 'https://fb55.carto.com/api/v2/sql'\n",
    "\n",
    "def queryCartoDB(query, format='CSV', source=SQL_SOURCE):\n",
    "    \"\"\" queries a url with an sql compatible search\n",
    "    Arguments:\n",
    "    query : the sql query string\n",
    "    format : the expected format\n",
    "    source \" the url of the API\n",
    "    \"\"\"\n",
    "    data = urllib.urlencode({'format': format, 'q': query})\n",
    "    try:\n",
    "        response = urllib2.urlopen(source, data)\n",
    "    except urllib2.HTTPError, e:\n",
    "        raise ValueError('\\n'.join(ast.literal_eval(e.readline())['error']))\n",
    "    except Exception:\n",
    "        raise\n",
    "    return StringIO(response.read())"
   ]
  },
  {
   "cell_type": "code",
   "execution_count": 4,
   "metadata": {
    "collapsed": false,
    "scrolled": true
   },
   "outputs": [
    {
     "data": {
      "text/html": [
       "<div>\n",
       "<table border=\"1\" class=\"dataframe\">\n",
       "  <thead>\n",
       "    <tr style=\"text-align: right;\">\n",
       "      <th></th>\n",
       "      <th>count</th>\n",
       "      <th>zipcodes</th>\n",
       "    </tr>\n",
       "  </thead>\n",
       "  <tbody>\n",
       "    <tr>\n",
       "      <th>0</th>\n",
       "      <td>1699</td>\n",
       "      <td>10461</td>\n",
       "    </tr>\n",
       "    <tr>\n",
       "      <th>1</th>\n",
       "      <td>405</td>\n",
       "      <td>11373</td>\n",
       "    </tr>\n",
       "    <tr>\n",
       "      <th>2</th>\n",
       "      <td>1698</td>\n",
       "      <td>10451</td>\n",
       "    </tr>\n",
       "    <tr>\n",
       "      <th>3</th>\n",
       "      <td>220</td>\n",
       "      <td>11691</td>\n",
       "    </tr>\n",
       "    <tr>\n",
       "      <th>4</th>\n",
       "      <td>246</td>\n",
       "      <td>11375</td>\n",
       "    </tr>\n",
       "  </tbody>\n",
       "</table>\n",
       "</div>"
      ],
      "text/plain": [
       "   count  zipcodes\n",
       "0   1699     10461\n",
       "1    405     11373\n",
       "2   1698     10451\n",
       "3    220     11691\n",
       "4    246     11375"
      ]
     },
     "execution_count": 4,
     "metadata": {},
     "output_type": "execute_result"
    }
   ],
   "source": [
    "facilityQuery = '''\n",
    "SELECT COUNT(cartodb_id), zipcodes\n",
    "FROM nycasthmasdismissals\n",
    "GROUP BY zipcodes\n",
    "'''\n",
    "facilityStream = queryCartoDB(facilityQuery, format='JSON')\n",
    "facilityData   = json.loads(facilityStream.read())\n",
    "facilityData\n",
    "facilities     = pd.DataFrame.from_dict(facilityData['rows'])\n",
    "facilities.head()"
   ]
  },
  {
   "cell_type": "markdown",
   "metadata": {},
   "source": [
    "### Merge with NY shapefile"
   ]
  },
  {
   "cell_type": "code",
   "execution_count": 6,
   "metadata": {
    "collapsed": false
   },
   "outputs": [],
   "source": [
    "shape = gpd.read_file('zipcode_shapefile/ZIP_CODE_040114.shp')"
   ]
  },
  {
   "cell_type": "code",
   "execution_count": 9,
   "metadata": {
    "collapsed": false
   },
   "outputs": [],
   "source": [
    "zipcode = shape[['ZIPCODE','geometry']]"
   ]
  },
  {
   "cell_type": "code",
   "execution_count": 13,
   "metadata": {
    "collapsed": false
   },
   "outputs": [
    {
     "name": "stderr",
     "output_type": "stream",
     "text": [
      "/anaconda/lib/python2.7/site-packages/ipykernel/__main__.py:1: SettingWithCopyWarning: \n",
      "A value is trying to be set on a copy of a slice from a DataFrame.\n",
      "Try using .loc[row_indexer,col_indexer] = value instead\n",
      "\n",
      "See the caveats in the documentation: http://pandas.pydata.org/pandas-docs/stable/indexing.html#indexing-view-versus-copy\n",
      "  if __name__ == '__main__':\n"
     ]
    }
   ],
   "source": [
    "zipcode['centers'] = zipcode.centroid"
   ]
  },
  {
   "cell_type": "code",
   "execution_count": 15,
   "metadata": {
    "collapsed": false
   },
   "outputs": [],
   "source": [
    "del zipcode['geometry']"
   ]
  },
  {
   "cell_type": "code",
   "execution_count": 19,
   "metadata": {
    "collapsed": false
   },
   "outputs": [],
   "source": [
    "zipcode = zipcode.rename(columns = {'ZIPCODE':'zipcodes'})"
   ]
  },
  {
   "cell_type": "code",
   "execution_count": 35,
   "metadata": {
    "collapsed": false
   },
   "outputs": [
    {
     "data": {
      "text/plain": [
       "u'11436'"
      ]
     },
     "execution_count": 35,
     "metadata": {},
     "output_type": "execute_result"
    }
   ],
   "source": [
    "zipcode['zipcodes'][0]"
   ]
  },
  {
   "cell_type": "code",
   "execution_count": 36,
   "metadata": {
    "collapsed": false
   },
   "outputs": [
    {
     "data": {
      "text/plain": [
       "10461"
      ]
     },
     "execution_count": 36,
     "metadata": {},
     "output_type": "execute_result"
    }
   ],
   "source": [
    "facilities.zipcodes[0]"
   ]
  },
  {
   "cell_type": "markdown",
   "metadata": {},
   "source": [
    "#### type of zipcode['zipcodes'] is str, facilities is int, cannot merge now. Transfer data type first"
   ]
  },
  {
   "cell_type": "code",
   "execution_count": 39,
   "metadata": {
    "collapsed": false
   },
   "outputs": [],
   "source": [
    "zipcode['zipcodes'] = pd.to_numeric(zipcode['zipcodes'], errors= 'coerce')"
   ]
  },
  {
   "cell_type": "code",
   "execution_count": 41,
   "metadata": {
    "collapsed": false
   },
   "outputs": [
    {
     "data": {
      "text/plain": [
       "11436"
      ]
     },
     "execution_count": 41,
     "metadata": {},
     "output_type": "execute_result"
    }
   ],
   "source": [
    "zipcode['zipcodes'][0]\n",
    "# now data type is the same, can be merged then!!"
   ]
  },
  {
   "cell_type": "code",
   "execution_count": 44,
   "metadata": {
    "collapsed": false
   },
   "outputs": [
    {
     "data": {
      "text/html": [
       "<div>\n",
       "<table border=\"1\" class=\"dataframe\">\n",
       "  <thead>\n",
       "    <tr style=\"text-align: right;\">\n",
       "      <th></th>\n",
       "      <th>count</th>\n",
       "      <th>zipcodes</th>\n",
       "      <th>centers</th>\n",
       "    </tr>\n",
       "  </thead>\n",
       "  <tbody>\n",
       "    <tr>\n",
       "      <th>0</th>\n",
       "      <td>1699</td>\n",
       "      <td>10461</td>\n",
       "      <td>POINT (1028292.72437689 247902.4282787614)</td>\n",
       "    </tr>\n",
       "    <tr>\n",
       "      <th>1</th>\n",
       "      <td>405</td>\n",
       "      <td>11373</td>\n",
       "      <td>POINT (1017941.215480481 208485.1046661779)</td>\n",
       "    </tr>\n",
       "    <tr>\n",
       "      <th>2</th>\n",
       "      <td>1698</td>\n",
       "      <td>10451</td>\n",
       "      <td>POINT (1005358.961284301 238316.0675161843)</td>\n",
       "    </tr>\n",
       "    <tr>\n",
       "      <th>3</th>\n",
       "      <td>220</td>\n",
       "      <td>11691</td>\n",
       "      <td>POINT (1050360.772370908 158235.4624321515)</td>\n",
       "    </tr>\n",
       "    <tr>\n",
       "      <th>4</th>\n",
       "      <td>246</td>\n",
       "      <td>11375</td>\n",
       "      <td>POINT (1026858.206454871 201880.2234817908)</td>\n",
       "    </tr>\n",
       "    <tr>\n",
       "      <th>5</th>\n",
       "      <td>494</td>\n",
       "      <td>10466</td>\n",
       "      <td>POINT (1026647.114925691 263909.2896452093)</td>\n",
       "    </tr>\n",
       "    <tr>\n",
       "      <th>6</th>\n",
       "      <td>713</td>\n",
       "      <td>11212</td>\n",
       "      <td>POINT (1008365.375095716 180768.9448568909)</td>\n",
       "    </tr>\n",
       "    <tr>\n",
       "      <th>7</th>\n",
       "      <td>167</td>\n",
       "      <td>11229</td>\n",
       "      <td>POINT (999714.2819237487 158289.3193893406)</td>\n",
       "    </tr>\n",
       "    <tr>\n",
       "      <th>8</th>\n",
       "      <td>521</td>\n",
       "      <td>11215</td>\n",
       "      <td>POINT (989857.1615907477 181769.9626017534)</td>\n",
       "    </tr>\n",
       "    <tr>\n",
       "      <th>9</th>\n",
       "      <td>386</td>\n",
       "      <td>11220</td>\n",
       "      <td>POINT (979603.6885367428 172876.8181350912)</td>\n",
       "    </tr>\n",
       "    <tr>\n",
       "      <th>10</th>\n",
       "      <td>641</td>\n",
       "      <td>11355</td>\n",
       "      <td>POINT (1033751.963208415 213025.4454238106)</td>\n",
       "    </tr>\n",
       "    <tr>\n",
       "      <th>11</th>\n",
       "      <td>376</td>\n",
       "      <td>11213</td>\n",
       "      <td>POINT (1001912.871996466 183803.1131420481)</td>\n",
       "    </tr>\n",
       "    <tr>\n",
       "      <th>12</th>\n",
       "      <td>567</td>\n",
       "      <td>11418</td>\n",
       "      <td>POINT (1030763.131985185 193718.677337912)</td>\n",
       "    </tr>\n",
       "    <tr>\n",
       "      <th>13</th>\n",
       "      <td>411</td>\n",
       "      <td>10310</td>\n",
       "      <td>POINT (952154.3158469965 170046.5463028799)</td>\n",
       "    </tr>\n",
       "    <tr>\n",
       "      <th>14</th>\n",
       "      <td>1829</td>\n",
       "      <td>11203</td>\n",
       "      <td>POINT (1002486.394860329 175967.924925334)</td>\n",
       "    </tr>\n",
       "    <tr>\n",
       "      <th>15</th>\n",
       "      <td>281</td>\n",
       "      <td>11102</td>\n",
       "      <td>POINT (1004612.515718838 220393.7206859779)</td>\n",
       "    </tr>\n",
       "    <tr>\n",
       "      <th>16</th>\n",
       "      <td>222</td>\n",
       "      <td>11234</td>\n",
       "      <td>POINT (1009030.592825167 160369.8908560668)</td>\n",
       "    </tr>\n",
       "    <tr>\n",
       "      <th>17</th>\n",
       "      <td>1156</td>\n",
       "      <td>11237</td>\n",
       "      <td>POINT (1006204.49069248 195763.5339415926)</td>\n",
       "    </tr>\n",
       "    <tr>\n",
       "      <th>18</th>\n",
       "      <td>421</td>\n",
       "      <td>11219</td>\n",
       "      <td>POINT (985172.779324743 169813.4852984693)</td>\n",
       "    </tr>\n",
       "    <tr>\n",
       "      <th>19</th>\n",
       "      <td>822</td>\n",
       "      <td>10457</td>\n",
       "      <td>POINT (1012373.99669069 247427.2407033304)</td>\n",
       "    </tr>\n",
       "    <tr>\n",
       "      <th>20</th>\n",
       "      <td>320</td>\n",
       "      <td>11235</td>\n",
       "      <td>POINT (999281.733467283 152086.4975396681)</td>\n",
       "    </tr>\n",
       "    <tr>\n",
       "      <th>21</th>\n",
       "      <td>466</td>\n",
       "      <td>11206</td>\n",
       "      <td>POINT (1000214.752242321 195030.0417786305)</td>\n",
       "    </tr>\n",
       "    <tr>\n",
       "      <th>22</th>\n",
       "      <td>1072</td>\n",
       "      <td>10456</td>\n",
       "      <td>POINT (1009764.343531543 241746.6814908273)</td>\n",
       "    </tr>\n",
       "    <tr>\n",
       "      <th>23</th>\n",
       "      <td>926</td>\n",
       "      <td>11040</td>\n",
       "      <td>POINT (1066420.314161689 212186.3715271447)</td>\n",
       "    </tr>\n",
       "    <tr>\n",
       "      <th>24</th>\n",
       "      <td>940</td>\n",
       "      <td>11201</td>\n",
       "      <td>POINT (987194.5134666855 192431.9280277258)</td>\n",
       "    </tr>\n",
       "    <tr>\n",
       "      <th>25</th>\n",
       "      <td>2164</td>\n",
       "      <td>10467</td>\n",
       "      <td>POINT (1020059.119296007 259287.5178783316)</td>\n",
       "    </tr>\n",
       "    <tr>\n",
       "      <th>26</th>\n",
       "      <td>293</td>\n",
       "      <td>11432</td>\n",
       "      <td>POINT (1041615.426944193 200113.081425501)</td>\n",
       "    </tr>\n",
       "    <tr>\n",
       "      <th>27</th>\n",
       "      <td>447</td>\n",
       "      <td>10305</td>\n",
       "      <td>POINT (963294.3545815283 156090.5598662235)</td>\n",
       "    </tr>\n",
       "    <tr>\n",
       "      <th>28</th>\n",
       "      <td>145</td>\n",
       "      <td>10309</td>\n",
       "      <td>POINT (923582.2158208215 132956.1861638336)</td>\n",
       "    </tr>\n",
       "  </tbody>\n",
       "</table>\n",
       "</div>"
      ],
      "text/plain": [
       "    count  zipcodes                                      centers\n",
       "0    1699     10461   POINT (1028292.72437689 247902.4282787614)\n",
       "1     405     11373  POINT (1017941.215480481 208485.1046661779)\n",
       "2    1698     10451  POINT (1005358.961284301 238316.0675161843)\n",
       "3     220     11691  POINT (1050360.772370908 158235.4624321515)\n",
       "4     246     11375  POINT (1026858.206454871 201880.2234817908)\n",
       "5     494     10466  POINT (1026647.114925691 263909.2896452093)\n",
       "6     713     11212  POINT (1008365.375095716 180768.9448568909)\n",
       "7     167     11229  POINT (999714.2819237487 158289.3193893406)\n",
       "8     521     11215  POINT (989857.1615907477 181769.9626017534)\n",
       "9     386     11220  POINT (979603.6885367428 172876.8181350912)\n",
       "10    641     11355  POINT (1033751.963208415 213025.4454238106)\n",
       "11    376     11213  POINT (1001912.871996466 183803.1131420481)\n",
       "12    567     11418   POINT (1030763.131985185 193718.677337912)\n",
       "13    411     10310  POINT (952154.3158469965 170046.5463028799)\n",
       "14   1829     11203   POINT (1002486.394860329 175967.924925334)\n",
       "15    281     11102  POINT (1004612.515718838 220393.7206859779)\n",
       "16    222     11234  POINT (1009030.592825167 160369.8908560668)\n",
       "17   1156     11237   POINT (1006204.49069248 195763.5339415926)\n",
       "18    421     11219   POINT (985172.779324743 169813.4852984693)\n",
       "19    822     10457   POINT (1012373.99669069 247427.2407033304)\n",
       "20    320     11235   POINT (999281.733467283 152086.4975396681)\n",
       "21    466     11206  POINT (1000214.752242321 195030.0417786305)\n",
       "22   1072     10456  POINT (1009764.343531543 241746.6814908273)\n",
       "23    926     11040  POINT (1066420.314161689 212186.3715271447)\n",
       "24    940     11201  POINT (987194.5134666855 192431.9280277258)\n",
       "25   2164     10467  POINT (1020059.119296007 259287.5178783316)\n",
       "26    293     11432   POINT (1041615.426944193 200113.081425501)\n",
       "27    447     10305  POINT (963294.3545815283 156090.5598662235)\n",
       "28    145     10309  POINT (923582.2158208215 132956.1861638336)"
      ]
     },
     "execution_count": 44,
     "metadata": {},
     "output_type": "execute_result"
    }
   ],
   "source": [
    "merged = pd.merge(facilities, zipcode , how ='left' , on ='zipcodes' )\n",
    "merged"
   ]
  },
  {
   "cell_type": "markdown",
   "metadata": {},
   "source": [
    "### Plot the points"
   ]
  },
  {
   "cell_type": "code",
   "execution_count": 47,
   "metadata": {
    "collapsed": false
   },
   "outputs": [],
   "source": [
    "krigdata = np.zeros((len(merged),3))"
   ]
  },
  {
   "cell_type": "code",
   "execution_count": 75,
   "metadata": {
    "collapsed": false
   },
   "outputs": [],
   "source": [
    "for i in range(len(krigdata)):\n",
    "    krigdata[i,0] = merged.centers[i].x\n",
    "    krigdata[i,1] = merged.centers[i].y\n",
    "    krigdata[i,2] = merged['count'][i]"
   ]
  },
  {
   "cell_type": "code",
   "execution_count": 84,
   "metadata": {
    "collapsed": false
   },
   "outputs": [
    {
     "data": {
      "text/plain": [
       "<matplotlib.text.Text at 0x11ae21b90>"
      ]
     },
     "execution_count": 84,
     "metadata": {},
     "output_type": "execute_result"
    },
    {
     "data": {
      "image/png": "[encoded data removed]",
      "text/plain": [
       "<matplotlib.figure.Figure at 0x117965e50>"
      ]
     },
     "metadata": {},
     "output_type": "display_data"
    }
   ],
   "source": [
    "pl.figure(figsize=(10,10))\n",
    "pl.scatter(krigdata[:,0], krigdata[:,1], c=krigdata[:,2], s=100, cmap='bone')\n",
    "pl.xlabel(\"Easting (m)\", fontsize=20)\n",
    "pl.ylabel(\"Northing (m)\", fontsize=20)\n",
    "pl.title('NYC Asthma Dismissal Counts by Location(zipcode)')"
   ]
  },
  {
   "cell_type": "markdown",
   "metadata": {},
   "source": [
    "#### The plot shows count of dismissal because of Asthma in NYC by zipcode. The darker the point is, the more people are dismissed."
   ]
  },
  {
   "cell_type": "markdown",
   "metadata": {},
   "source": [
    "### Kriging"
   ]
  },
  {
   "cell_type": "code",
   "execution_count": 101,
   "metadata": {
    "collapsed": true
   },
   "outputs": [],
   "source": [
    "## h is lag, bw is the + - interval around lag\n",
    "\n",
    "\n",
    "def SVh_vctzd( P, h, bw ):\n",
    "    '''\n",
    "    Experimental semivariogram for a single lag\n",
    "    bw max distance\n",
    "    h lag\n",
    "    P data\n",
    "    '''\n",
    "    pdsv = squareform( pdist( P[:,:2] ) )   ## distance between points , shown in squareform, pdist will show in array\n",
    "    #print pdsv\n",
    "    N = pdsv.shape[0]\n",
    "    #print N\n",
    "    #print np.triu_indices(N)\n",
    "    Z = np.zeros((N,N))\n",
    "    Z = Z - P[:,2]\n",
    "    #print Z\n",
    "    Z = Z.T + P[:,2]\n",
    "    #print Z\n",
    "    Z = Z**2\n",
    "    #print Z\n",
    "    Zcd =  Z[(pdsv >= h - bw) * (pdsv <= h + bw) * \\\n",
    "            (~np.identity(N, dtype=bool))]\n",
    "\n",
    "    #print Zcd\n",
    "    return np.sum( Zcd ) / ( 2.0 * len( Zcd ) )\n",
    "\n",
    "def SVh( P, h, bw ):\n",
    "    '''\n",
    "    Experimental semivariogram for a single lag\n",
    "    bw max distance\n",
    "    h lag\n",
    "    P data\n",
    "    '''\n",
    "    #distance matrix (eucledian)\n",
    "    pdsv = squareform( pdist( P[:,:2] ) )\n",
    "    #print pdsv\n",
    "    N = pdsv.shape[0]\n",
    "    #print N\n",
    "\n",
    "    Z = list()\n",
    "    for i in range(N):\n",
    "        for j in range(i+1, N):\n",
    "            #select only pair of points at the appropriate lag\n",
    "            if( pdsv[i,j] >= h - bw )and( pdsv[i,j] <= h + bw ):\n",
    "                Z.append( ( P[i,2] - P[j,2] )**2.0 )\n",
    "    #print Z\n",
    "    return np.sum( Z ) / ( 2.0 * len( Z ) )\n",
    "\n",
    "\n",
    "def SV( P, hs, bw ):\n",
    "    '''\n",
    "    Experimental variogram for a collection of lags\n",
    "    '''\n",
    "    sv = list()\n",
    "    for h in hs:\n",
    "        #print h\n",
    "        #sv.append( SVh( P, h, bw ) )\n",
    "        sv.append( SVh_vctzd ( P, h, bw ) )\n",
    "    sv = [ [ hs[i], sv[i] ] for i in range( len( hs ) ) if sv[i] > 0 ]\n",
    "    return np.array( sv ).T"
   ]
  },
  {
   "cell_type": "code",
   "execution_count": 133,
   "metadata": {
    "collapsed": false
   },
   "outputs": [
    {
     "data": {
      "text/plain": [
       "array([[  1.02829272e+06,   2.47902428e+05,   1.69900000e+03],\n",
       "       [  1.01794122e+06,   2.08485105e+05,   4.05000000e+02],\n",
       "       [  1.00535896e+06,   2.38316068e+05,   1.69800000e+03],\n",
       "       [  1.05036077e+06,   1.58235462e+05,   2.20000000e+02],\n",
       "       [  1.02685821e+06,   2.01880223e+05,   2.46000000e+02],\n",
       "       [  1.02664711e+06,   2.63909290e+05,   4.94000000e+02],\n",
       "       [  1.00836538e+06,   1.80768945e+05,   7.13000000e+02],\n",
       "       [  9.99714282e+05,   1.58289319e+05,   1.67000000e+02],\n",
       "       [  9.89857162e+05,   1.81769963e+05,   5.21000000e+02],\n",
       "       [  9.79603689e+05,   1.72876818e+05,   3.86000000e+02],\n",
       "       [  1.03375196e+06,   2.13025445e+05,   6.41000000e+02],\n",
       "       [  1.00191287e+06,   1.83803113e+05,   3.76000000e+02],\n",
       "       [  1.03076313e+06,   1.93718677e+05,   5.67000000e+02],\n",
       "       [  9.52154316e+05,   1.70046546e+05,   4.11000000e+02],\n",
       "       [  1.00248639e+06,   1.75967925e+05,   1.82900000e+03],\n",
       "       [  1.00461252e+06,   2.20393721e+05,   2.81000000e+02],\n",
       "       [  1.00903059e+06,   1.60369891e+05,   2.22000000e+02],\n",
       "       [  1.00620449e+06,   1.95763534e+05,   1.15600000e+03],\n",
       "       [  9.85172779e+05,   1.69813485e+05,   4.21000000e+02],\n",
       "       [  1.01237400e+06,   2.47427241e+05,   8.22000000e+02],\n",
       "       [  9.99281733e+05,   1.52086498e+05,   3.20000000e+02],\n",
       "       [  1.00021475e+06,   1.95030042e+05,   4.66000000e+02],\n",
       "       [  1.00976434e+06,   2.41746681e+05,   1.07200000e+03],\n",
       "       [  1.06642031e+06,   2.12186372e+05,   9.26000000e+02],\n",
       "       [  9.87194513e+05,   1.92431928e+05,   9.40000000e+02],\n",
       "       [  1.02005912e+06,   2.59287518e+05,   2.16400000e+03],\n",
       "       [  1.04161543e+06,   2.00113081e+05,   2.93000000e+02],\n",
       "       [  9.63294355e+05,   1.56090560e+05,   4.47000000e+02],\n",
       "       [  9.23582216e+05,   1.32956186e+05,   1.45000000e+02]])"
      ]
     },
     "execution_count": 133,
     "metadata": {},
     "output_type": "execute_result"
    }
   ],
   "source": [
    "krigdata"
   ]
  },
  {
   "cell_type": "code",
   "execution_count": 141,
   "metadata": {
    "collapsed": false
   },
   "outputs": [
    {
     "data": {
      "text/plain": [
       "1512.5"
      ]
     },
     "execution_count": 141,
     "metadata": {},
     "output_type": "execute_result"
    }
   ],
   "source": [
    "mysv = SVh( krigdata, 10000, 500 )\n",
    "mysv"
   ]
  },
  {
   "cell_type": "code",
   "execution_count": 140,
   "metadata": {
    "collapsed": false
   },
   "outputs": [
    {
     "name": "stdout",
     "output_type": "stream",
     "text": [
      "1000 loops, best of 3: 450 µs per loop\n"
     ]
    }
   ],
   "source": [
    "%timeit -n 1000 mysv = SVh( krigdata, 10000, 500 )"
   ]
  },
  {
   "cell_type": "code",
   "execution_count": 144,
   "metadata": {
    "collapsed": false
   },
   "outputs": [
    {
     "name": "stdout",
     "output_type": "stream",
     "text": [
      "1512.5\n",
      "1000 loops, best of 3: 83.6 µs per loop\n"
     ]
    }
   ],
   "source": [
    "print SVh_vctzd( krigdata, 10000, 500 )\n",
    "%timeit -n 1000 mysv = SVh_vctzd( krigdata, 10000, 500 )"
   ]
  },
  {
   "cell_type": "code",
   "execution_count": 162,
   "metadata": {
    "collapsed": false
   },
   "outputs": [
    {
     "name": "stdout",
     "output_type": "stream",
     "text": [
      "[[  6.00100000e+03   7.00100000e+03   8.00100000e+03   9.00100000e+03\n",
      "    1.00010000e+04   1.10010000e+04   1.20010000e+04   1.30010000e+04\n",
      "    1.40010000e+04   1.50010000e+04   1.60010000e+04   1.70010000e+04\n",
      "    1.80010000e+04   1.90010000e+04   2.00010000e+04   2.10010000e+04\n",
      "    2.20010000e+04   2.30010000e+04   2.40010000e+04   2.50010000e+04\n",
      "    2.60010000e+04   2.80010000e+04   2.90010000e+04   3.00010000e+04\n",
      "    3.10010000e+04   3.20010000e+04   3.30010000e+04   3.40010000e+04\n",
      "    3.50010000e+04   3.60010000e+04   3.70010000e+04   3.80010000e+04\n",
      "    3.90010000e+04   4.00010000e+04   4.10010000e+04   4.20010000e+04\n",
      "    4.30010000e+04   4.40010000e+04   4.50010000e+04   4.60010000e+04\n",
      "    4.70010000e+04   4.80010000e+04   4.90010000e+04   5.00010000e+04\n",
      "    5.10010000e+04   5.20010000e+04   5.30010000e+04   5.40010000e+04\n",
      "    5.50010000e+04   5.60010000e+04   5.70010000e+04   5.80010000e+04\n",
      "    5.90010000e+04   6.00010000e+04   6.10010000e+04   6.20010000e+04\n",
      "    6.30010000e+04   6.40010000e+04   6.50010000e+04   6.60010000e+04\n",
      "    6.70010000e+04   6.80010000e+04   6.90010000e+04   7.00010000e+04\n",
      "    7.10010000e+04   7.20010000e+04   7.30010000e+04   7.40010000e+04\n",
      "    7.50010000e+04   7.60010000e+04   7.70010000e+04   7.80010000e+04\n",
      "    7.90010000e+04   8.00010000e+04   8.10010000e+04   8.20010000e+04\n",
      "    8.30010000e+04   8.40010000e+04   8.50010000e+04   8.60010000e+04\n",
      "    8.70010000e+04   8.90010000e+04   9.00010000e+04   9.10010000e+04\n",
      "    9.20010000e+04   9.30010000e+04   9.40010000e+04   9.50010000e+04\n",
      "    9.60010000e+04   9.70010000e+04   9.80010000e+04   9.90010000e+04]\n",
      " [  9.55110000e+04   5.67845000e+04   1.02426083e+06   5.15205000e+04\n",
      "    1.51250000e+03   1.22039750e+05   1.05125000e+04   9.03150833e+04\n",
      "    4.68284750e+05   5.32603333e+04   2.92232375e+05   4.33446375e+05\n",
      "    6.76926900e+05   2.50725625e+05   1.92610250e+05   1.53458000e+05\n",
      "    1.97189786e+05   2.95691500e+05   3.31305250e+05   9.27477143e+04\n",
      "    3.15656429e+04   1.07880667e+05   1.60593333e+04   4.96722500e+04\n",
      "    1.29978750e+04   2.83646833e+05   3.11665429e+05   2.22444500e+05\n",
      "    3.33081500e+05   4.95172667e+05   3.71459000e+04   2.87799375e+05\n",
      "    8.93711250e+04   7.24216667e+04   1.77151875e+05   4.58852286e+05\n",
      "    8.28102500e+04   6.66207700e+05   2.88000000e+02   4.61939000e+05\n",
      "    5.76890000e+04   3.89831250e+05   9.84399000e+04   3.30965500e+05\n",
      "    3.53856769e+05   1.16681857e+05   3.43549000e+05   9.21246875e+04\n",
      "    1.91247833e+05   1.31033000e+05   6.33795000e+04   4.80244571e+05\n",
      "    2.34738333e+05   2.12694400e+05   6.44405000e+04   5.17585000e+04\n",
      "    9.51060500e+05   4.62021000e+04   1.35250500e+05   3.84161214e+05\n",
      "    4.93351667e+05   5.50622500e+04   2.47661300e+05   3.10441000e+05\n",
      "    5.17243250e+05   2.04522625e+05   2.08077250e+05   3.74740000e+05\n",
      "    2.35298000e+05   1.54811750e+05   8.56228333e+04   6.80818250e+05\n",
      "    1.05270050e+06   5.86111250e+05   1.56636833e+05   5.74708333e+04\n",
      "    1.34972450e+06   2.08237250e+05   4.00465000e+04   6.18741250e+05\n",
      "    3.37490375e+05   8.39313250e+05   4.00595250e+05   4.54965250e+05\n",
      "    5.56814333e+05   1.94816250e+05   5.90237000e+05   8.63221000e+05\n",
      "    8.22513250e+05   1.79275500e+05   8.44605000e+04   3.48805000e+04]]\n"
     ]
    }
   ],
   "source": [
    "lag = 1000\n",
    "mysv = SV( krigdata, np.arange(1, 100000, lag), 500 )\n",
    "print mysv"
   ]
  },
  {
   "cell_type": "code",
   "execution_count": 163,
   "metadata": {
    "collapsed": false
   },
   "outputs": [
    {
     "data": {
      "text/plain": [
       "<matplotlib.text.Text at 0x11d7136d0>"
      ]
     },
     "execution_count": 163,
     "metadata": {},
     "output_type": "execute_result"
    },
    {
     "data": {
      "image/png": "[encoded data removed]",
      "text/plain": [
       "<matplotlib.figure.Figure at 0x11d6bc310>"
      ]
     },
     "metadata": {},
     "output_type": "display_data"
    }
   ],
   "source": [
    "# lags in 500 meter increments from zero to 100,000\n",
    "hs = np.arange(0, 100000, lag)\n",
    "#mysv = SV( x, hs, bw )\n",
    "pl.figure(figsize=(10,10))\n",
    "plot( mysv[0], mysv[1], '.-' )\n",
    "pl.xlabel('Lag [m]', fontsize=20)\n",
    "pl.ylabel('Semivariogram', fontsize=20)\n",
    "pl.title('Sample Semivariogram\\nNYC Asthma dismissal data, lag %dm'%lag, fontsize=20) "
   ]
  },
  {
   "cell_type": "markdown",
   "metadata": {},
   "source": [
    "### This crazy plot shows there is no clear spatial correlation in asthma dismissal count\n",
    "The point (x,y) in Semivarigram means:\n",
    "x is lag. Each pair points' distance is less than x, their values are consistent or not matters. y shows the consistency extent. If y is larger, then all the data pairs under that lag is more correlated.\n",
    "\n",
    "However, with different lag, the data pairs' consistency shows no pattern. Means, the data consistency is not related with space."
   ]
  }
 ],
 "metadata": {
  "kernelspec": {
   "display_name": "Python [Root]",
   "language": "python",
   "name": "Python [Root]"
  },
  "language_info": {
   "codemirror_mode": {
    "name": "ipython",
    "version": 2
   },
   "file_extension": ".py",
   "mimetype": "text/x-python",
   "name": "python",
   "nbconvert_exporter": "python",
   "pygments_lexer": "ipython2",
   "version": "2.7.12"
  }
 },
 "nbformat": 4,
 "nbformat_minor": 0
}
